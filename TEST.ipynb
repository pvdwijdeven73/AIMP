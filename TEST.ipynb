{
 "cells": [
  {
   "cell_type": "code",
   "execution_count": 1,
   "metadata": {},
   "outputs": [
    {
     "ename": "SyntaxError",
     "evalue": "invalid syntax. Perhaps you forgot a comma? (3320527286.py, line 20)",
     "output_type": "error",
     "traceback": [
      "\u001b[1;36m  Cell \u001b[1;32mIn[1], line 20\u001b[1;36m\u001b[0m\n\u001b[1;33m    get_tags(\"30PC203MODE.PV== 0 AND (30PC203.MODE==\"MAN\" OR 30PC203.MODE==\"MAN IMAN\" OR 30PC203.OPMK==1)\")\u001b[0m\n\u001b[1;37m             ^\u001b[0m\n\u001b[1;31mSyntaxError\u001b[0m\u001b[1;31m:\u001b[0m invalid syntax. Perhaps you forgot a comma?\n"
     ]
    }
   ],
   "source": [
    "import re\n",
    "\n",
    "def get_tags(input_string):\n",
    "\n",
    "    # Your list of characters to split on\n",
    "    split_chars = ['=', '>', '<', 'AND', ')', '()']\n",
    "\n",
    "    # Your input string\n",
    "    input_string = \"\"\n",
    "\n",
    "    # Create a regular expression pattern that matches any of the characters\n",
    "    pattern = '|'.join(re.escape(char) for char in split_chars)\n",
    "\n",
    "    # Split the string using the regular expression pattern as the delimiter\n",
    "    result = re.split(pattern, input_string)\n",
    "\n",
    "    # Print the result\n",
    "    print(result)\n",
    "    \n",
    "get_tags(\"30PC203MODE.PV== 0 AND (30PC203.MODE==\"MAN\" OR 30PC203.MODE==\"MAN IMAN\" OR 30PC203.OPMK==1)\")"
   ]
  },
  {
   "cell_type": "code",
   "execution_count": null,
   "metadata": {},
   "outputs": [],
   "source": [
    "import PyPDF2\n",
    "\n",
    "def read_pdf(file_path):\n",
    "    with open(file_path, 'rb') as file:\n",
    "        # Create a PDF reader object\n",
    "        pdf_reader = PyPDF2.PdfFileReader(file)\n",
    "        \n",
    "        # Get the total number of pages in the PDF\n",
    "        num_pages = pdf_reader.numPages\n",
    "\n",
    "        # Initialize an empty string to store the content\n",
    "        pdf_text = \"\"\n",
    "\n",
    "        # Loop through all the pages and extract text\n",
    "        for page_num in range(num_pages):\n",
    "            page = pdf_reader.getPage(page_num)\n",
    "            pdf_text += page.extractText()\n",
    "\n",
    "    return pdf_text\n",
    "\n",
    "# Replace 'path_to_your_pdf_file.pdf' with the actual path of your PDF file\n",
    "pdf_text = read_pdf('Params.pdf')\n",
    "print(pdf_text)"
   ]
  },
  {
   "cell_type": "code",
   "execution_count": 1,
   "metadata": {},
   "outputs": [
    {
     "ename": "CalledProcessError",
     "evalue": "Command '['c:\\\\Users\\\\p.vandewijdeven\\\\OneDrive - Shell\\\\Apps\\\\Python310\\\\workenv\\\\Scripts\\\\python.exe', '-m', 'pip', 'install', 'PyPDF2']' returned non-zero exit status 1.",
     "output_type": "error",
     "traceback": [
      "\u001b[1;31m---------------------------------------------------------------------------\u001b[0m",
      "\u001b[1;31mCalledProcessError\u001b[0m                        Traceback (most recent call last)",
      "\u001b[1;32mC:\\Users\\P0FFA~1.VAN\\AppData\\Local\\Temp/ipykernel_8252/529022931.py\u001b[0m in \u001b[0;36m<module>\u001b[1;34m\u001b[0m\n\u001b[0;32m      5\u001b[0m     \u001b[0msubprocess\u001b[0m\u001b[1;33m.\u001b[0m\u001b[0mcheck_call\u001b[0m\u001b[1;33m(\u001b[0m\u001b[1;33m[\u001b[0m\u001b[0msys\u001b[0m\u001b[1;33m.\u001b[0m\u001b[0mexecutable\u001b[0m\u001b[1;33m,\u001b[0m \u001b[1;34m\"-m\"\u001b[0m\u001b[1;33m,\u001b[0m \u001b[1;34m\"pip\"\u001b[0m\u001b[1;33m,\u001b[0m \u001b[1;34m\"install\"\u001b[0m\u001b[1;33m,\u001b[0m \u001b[0mpackage\u001b[0m\u001b[1;33m]\u001b[0m\u001b[1;33m)\u001b[0m\u001b[1;33m\u001b[0m\u001b[1;33m\u001b[0m\u001b[0m\n\u001b[0;32m      6\u001b[0m \u001b[1;33m\u001b[0m\u001b[0m\n\u001b[1;32m----> 7\u001b[1;33m \u001b[0minstall\u001b[0m\u001b[1;33m(\u001b[0m\u001b[1;34m\"PyPDF2\"\u001b[0m\u001b[1;33m)\u001b[0m\u001b[1;33m\u001b[0m\u001b[1;33m\u001b[0m\u001b[0m\n\u001b[0m",
      "\u001b[1;32mC:\\Users\\P0FFA~1.VAN\\AppData\\Local\\Temp/ipykernel_8252/529022931.py\u001b[0m in \u001b[0;36minstall\u001b[1;34m(package)\u001b[0m\n\u001b[0;32m      3\u001b[0m \u001b[1;33m\u001b[0m\u001b[0m\n\u001b[0;32m      4\u001b[0m \u001b[1;32mdef\u001b[0m \u001b[0minstall\u001b[0m\u001b[1;33m(\u001b[0m\u001b[0mpackage\u001b[0m\u001b[1;33m)\u001b[0m\u001b[1;33m:\u001b[0m\u001b[1;33m\u001b[0m\u001b[1;33m\u001b[0m\u001b[0m\n\u001b[1;32m----> 5\u001b[1;33m     \u001b[0msubprocess\u001b[0m\u001b[1;33m.\u001b[0m\u001b[0mcheck_call\u001b[0m\u001b[1;33m(\u001b[0m\u001b[1;33m[\u001b[0m\u001b[0msys\u001b[0m\u001b[1;33m.\u001b[0m\u001b[0mexecutable\u001b[0m\u001b[1;33m,\u001b[0m \u001b[1;34m\"-m\"\u001b[0m\u001b[1;33m,\u001b[0m \u001b[1;34m\"pip\"\u001b[0m\u001b[1;33m,\u001b[0m \u001b[1;34m\"install\"\u001b[0m\u001b[1;33m,\u001b[0m \u001b[0mpackage\u001b[0m\u001b[1;33m]\u001b[0m\u001b[1;33m)\u001b[0m\u001b[1;33m\u001b[0m\u001b[1;33m\u001b[0m\u001b[0m\n\u001b[0m\u001b[0;32m      6\u001b[0m \u001b[1;33m\u001b[0m\u001b[0m\n\u001b[0;32m      7\u001b[0m \u001b[0minstall\u001b[0m\u001b[1;33m(\u001b[0m\u001b[1;34m\"PyPDF2\"\u001b[0m\u001b[1;33m)\u001b[0m\u001b[1;33m\u001b[0m\u001b[1;33m\u001b[0m\u001b[0m\n",
      "\u001b[1;32m~\\OneDrive - Shell\\Apps\\Python310\\lib\\subprocess.py\u001b[0m in \u001b[0;36mcheck_call\u001b[1;34m(*popenargs, **kwargs)\u001b[0m\n\u001b[0;32m    367\u001b[0m         \u001b[1;32mif\u001b[0m \u001b[0mcmd\u001b[0m \u001b[1;32mis\u001b[0m \u001b[1;32mNone\u001b[0m\u001b[1;33m:\u001b[0m\u001b[1;33m\u001b[0m\u001b[1;33m\u001b[0m\u001b[0m\n\u001b[0;32m    368\u001b[0m             \u001b[0mcmd\u001b[0m \u001b[1;33m=\u001b[0m \u001b[0mpopenargs\u001b[0m\u001b[1;33m[\u001b[0m\u001b[1;36m0\u001b[0m\u001b[1;33m]\u001b[0m\u001b[1;33m\u001b[0m\u001b[1;33m\u001b[0m\u001b[0m\n\u001b[1;32m--> 369\u001b[1;33m         \u001b[1;32mraise\u001b[0m \u001b[0mCalledProcessError\u001b[0m\u001b[1;33m(\u001b[0m\u001b[0mretcode\u001b[0m\u001b[1;33m,\u001b[0m \u001b[0mcmd\u001b[0m\u001b[1;33m)\u001b[0m\u001b[1;33m\u001b[0m\u001b[1;33m\u001b[0m\u001b[0m\n\u001b[0m\u001b[0;32m    370\u001b[0m     \u001b[1;32mreturn\u001b[0m \u001b[1;36m0\u001b[0m\u001b[1;33m\u001b[0m\u001b[1;33m\u001b[0m\u001b[0m\n\u001b[0;32m    371\u001b[0m \u001b[1;33m\u001b[0m\u001b[0m\n",
      "\u001b[1;31mCalledProcessError\u001b[0m: Command '['c:\\\\Users\\\\p.vandewijdeven\\\\OneDrive - Shell\\\\Apps\\\\Python310\\\\workenv\\\\Scripts\\\\python.exe', '-m', 'pip', 'install', 'PyPDF2']' returned non-zero exit status 1."
     ]
    }
   ],
   "source": [
    "import subprocess\n",
    "import sys\n",
    "\n",
    "def install(package):\n",
    "    subprocess.check_call([sys.executable, \"-m\", \"pip\", \"install\", package])\n",
    "\n",
    "install(\"PyPDF2\")"
   ]
  }
 ],
 "metadata": {
  "kernelspec": {
   "display_name": "workenv",
   "language": "python",
   "name": "python3"
  },
  "language_info": {
   "codemirror_mode": {
    "name": "ipython",
    "version": 3
   },
   "file_extension": ".py",
   "mimetype": "text/x-python",
   "name": "python",
   "nbconvert_exporter": "python",
   "pygments_lexer": "ipython3",
   "version": "3.11.4"
  },
  "orig_nbformat": 4
 },
 "nbformat": 4,
 "nbformat_minor": 2
}
